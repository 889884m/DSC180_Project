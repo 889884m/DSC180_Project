{
 "cells": [
  {
   "cell_type": "code",
   "execution_count": 18,
   "metadata": {},
   "outputs": [],
   "source": [
    "# oblig import sequence\n",
    "import sys\n",
    "sys.path.append('../src')\n",
    "import pickle\n",
    "import matplotlib.pyplot as plt\n",
    "from Models import *"
   ]
  },
  {
   "cell_type": "code",
   "execution_count": 19,
   "metadata": {},
   "outputs": [],
   "source": [
    "V5 = pickle.load(open('../data/V5.p','rb'))\n",
    "cp_list = V5[\"cp_list\"]\n",
    "active_L_table_slide_DOA = V5[\"active_L_table_slide_DOA\"]\n",
    "active_L_table_slide_matrix = V5[\"active_L_table_slide_matrix\"]\n",
    "active_long_table_slide_DOA = V5[\"active_long_table_slide_DOA\"]\n",
    "active_long_table_slide_matrix = V5[\"active_long_table_slide_matrix\"]"
   ]
  },
  {
   "cell_type": "code",
   "execution_count": 20,
   "metadata": {},
   "outputs": [],
   "source": [
    "# gather control points\n",
    "control_points = cp_list[:4]\n",
    "coordinates = [np.array([i[0], i[1]]) for i in ROOM_COORDINATES[:4]]\n",
    "# consolidate into single arrays\n",
    "X = np.vstack([c for c in cp_list[:4]])\n",
    "y = np.vstack([np.full([p.shape[0], len(c)], c) for p, c in zip(control_points, coordinates)])"
   ]
  },
  {
   "cell_type": "markdown",
   "metadata": {},
   "source": [
    "`X` is a stacked `np` array of the control points measurements and `y` is a stack of the coordinates all stacked into big repeating rows to use as \"labels\""
   ]
  },
  {
   "cell_type": "code",
   "execution_count": 21,
   "metadata": {},
   "outputs": [],
   "source": [
    "from sklearn.multioutput import MultiOutputRegressor\n",
    "from sklearn.svm import SVR"
   ]
  },
  {
   "cell_type": "markdown",
   "metadata": {},
   "source": [
    "Using `MultiOutput` instead of normal SVR to accomodate for the fact that we're transforming $15 \\to 2$"
   ]
  },
  {
   "cell_type": "code",
   "execution_count": 22,
   "metadata": {},
   "outputs": [
    {
     "data": {
      "text/plain": [
       "MultiOutputRegressor(estimator=SVR())"
      ]
     },
     "execution_count": 22,
     "metadata": {},
     "output_type": "execute_result"
    }
   ],
   "source": [
    "regr = MultiOutputRegressor(SVR())\n",
    "regr.fit(X, y)"
   ]
  },
  {
   "cell_type": "code",
   "execution_count": 23,
   "metadata": {},
   "outputs": [
    {
     "data": {
      "text/plain": [
       "<matplotlib.collections.PathCollection at 0x7f88903a90f0>"
      ]
     },
     "execution_count": 23,
     "metadata": {},
     "output_type": "execute_result"
    },
    {
     "data": {
      "text/plain": [
       "<matplotlib.collections.PathCollection at 0x7f88903a9710>"
      ]
     },
     "execution_count": 23,
     "metadata": {},
     "output_type": "execute_result"
    },
    {
     "data": {
      "image/png": "[encoded data removed]",
      "text/plain": [
       "<Figure size 432x288 with 1 Axes>"
      ]
     },
     "metadata": {
      "needs_background": "light"
     },
     "output_type": "display_data"
    }
   ],
   "source": [
    "plt.scatter(*regr.predict(X).T)\n",
    "plt.scatter(*regr.predict(active_L_table_slide_DOA).T)"
   ]
  },
  {
   "cell_type": "markdown",
   "metadata": {},
   "source": [
    "as u can see its kinda shit\n",
    "\n",
    "_language_"
   ]
  },
  {
   "cell_type": "code",
   "execution_count": 24,
   "metadata": {},
   "outputs": [
    {
     "ename": "SyntaxError",
     "evalue": "invalid syntax (<ipython-input-24-f2fb4aa9774a>, line 1)",
     "output_type": "error",
     "traceback": [
      "\u001b[0;36m  File \u001b[0;32m\"<ipython-input-24-f2fb4aa9774a>\"\u001b[0;36m, line \u001b[0;32m1\u001b[0m\n\u001b[0;31m    go fuck urself\u001b[0m\n\u001b[0m          ^\u001b[0m\n\u001b[0;31mSyntaxError\u001b[0m\u001b[0;31m:\u001b[0m invalid syntax\n"
     ]
    }
   ],
   "source": [
    "go fuck urself"
   ]
  }
 ],
 "metadata": {
  "interpreter": {
   "hash": "cd78fef2128015050713e82ca51c6520b11aee7c9ee8df750520bbbc7384cbaa"
  },
  "kernelspec": {
   "display_name": "Python 3.6.12 64-bit ('base': conda)",
   "language": "python",
   "name": "python3"
  },
  "language_info": {
   "codemirror_mode": {
    "name": "ipython",
    "version": 3
   },
   "file_extension": ".py",
   "mimetype": "text/x-python",
   "name": "python",
   "nbconvert_exporter": "python",
   "pygments_lexer": "ipython3",
   "version": "3.6.12"
  },
  "orig_nbformat": 4
 },
 "nbformat": 4,
 "nbformat_minor": 2
}
