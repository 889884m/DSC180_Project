{
 "cells": [
  {
   "cell_type": "code",
   "execution_count": 1,
   "id": "bb738d8b",
   "metadata": {},
   "outputs": [],
   "source": [
    "import sys\n",
    "sys.path.append('../src')\n",
    "from Mapping import *\n",
    "sys.path.append('../src/prediction')\n",
    "from PCA import *\n",
    "\n",
    "import pickle\n",
    "import matplotlib\n",
    "import matplotlib.pyplot as plt"
   ]
  },
  {
   "cell_type": "code",
   "execution_count": 2,
   "id": "20a94062",
   "metadata": {},
   "outputs": [],
   "source": [
    "V5 = pickle.load(open('../data/V5.p','rb'))\n",
    "cp_list = V5[\"cp_list\"]\n",
    "active_L_table_slide_DOA = V5[\"active_L_table_slide_DOA\"]\n",
    "active_L_table_slide_matrix = V5[\"active_L_table_slide_matrix\"]\n",
    "active_long_table_slide_DOA = V5[\"active_long_table_slide_DOA\"]\n",
    "active_long_table_slide_matrix = V5[\"active_long_table_slide_matrix\"]"
   ]
  },
  {
   "cell_type": "code",
   "execution_count": 3,
   "id": "7a66aca7",
   "metadata": {},
   "outputs": [
    {
     "data": {
      "text/plain": [
       "<matplotlib.collections.PathCollection at 0x1701ce79f08>"
      ]
     },
     "execution_count": 3,
     "metadata": {},
     "output_type": "execute_result"
    },
    {
     "data": {
      "image/png": "[encoded data removed]",
      "text/plain": [
       "<Figure size 432x288 with 1 Axes>"
      ]
     },
     "metadata": {
      "needs_background": "light"
     },
     "output_type": "display_data"
    }
   ],
   "source": [
    "room_x = [i[0] for i in ROOM_COORDINATES[:4]]\n",
    "room_y = [i[1] for i in ROOM_COORDINATES[:4]]\n",
    "plt.scatter(room_x, room_y, s=2)"
   ]
  },
  {
   "cell_type": "code",
   "execution_count": 4,
   "id": "7d32d746",
   "metadata": {},
   "outputs": [],
   "source": [
    "import torch\n",
    "import torch.nn as nn\n",
    "import random"
   ]
  },
  {
   "cell_type": "code",
   "execution_count": 5,
   "id": "faf29cf6",
   "metadata": {},
   "outputs": [],
   "source": [
    "class NeuralNet(torch.nn.Module):\n",
    "    def __init__(self, input_size, hidden_size, output_size):\n",
    "        super(NeuralNet, self).__init__()\n",
    "        self.input_size = input_size\n",
    "        self.l1 = nn.Linear(input_size, hidden_size)\n",
    "        self.relu = torch.nn.ReLU()\n",
    "        self.l2 = nn.Linear(hidden_size, output_size)\n",
    "    \n",
    "    def forward(self, x):\n",
    "        output = self.l1(x)\n",
    "        output = self.relu(output)\n",
    "        output = self.l2(output)\n",
    "        return output\n",
    "    "
   ]
  },
  {
   "cell_type": "code",
   "execution_count": 6,
   "id": "72601aa0",
   "metadata": {},
   "outputs": [],
   "source": [
    "input_size = 15\n",
    "# input_size = 9\n",
    "output_size = 2\n",
    "hidden_size = 20\n",
    "num_epochs = 2\n",
    "learning_rate = 0.001"
   ]
  },
  {
   "cell_type": "code",
   "execution_count": 7,
   "id": "e6d18b80",
   "metadata": {},
   "outputs": [],
   "source": [
    "model = NeuralNet(input_size, hidden_size, output_size)\n",
    "model = model.float()"
   ]
  },
  {
   "cell_type": "code",
   "execution_count": 8,
   "id": "1727d6b1",
   "metadata": {},
   "outputs": [],
   "source": [
    "criterion = nn.MSELoss()\n",
    "optimizer = torch.optim.SGD(model.parameters(), lr=learning_rate)"
   ]
  },
  {
   "cell_type": "code",
   "execution_count": 9,
   "id": "c24c6db4",
   "metadata": {},
   "outputs": [],
   "source": [
    "# first four are table coordinates\n",
    "cp_torch = [torch.from_numpy(cp) for cp in cp_list[:4]]\n",
    "room_coords = [torch.from_numpy(np.array([i[0], i[1]])) for i in ROOM_COORDINATES[:4]]"
   ]
  },
  {
   "cell_type": "code",
   "execution_count": 10,
   "id": "7f3766bb",
   "metadata": {},
   "outputs": [],
   "source": [
    "X = cp_torch\n",
    "y = room_coords"
   ]
  },
  {
   "cell_type": "code",
   "execution_count": 11,
   "id": "51410834",
   "metadata": {},
   "outputs": [
    {
     "data": {
      "text/plain": [
       "[tensor([2.0800, 1.8100], dtype=torch.float64),\n",
       " tensor([3.4500, 1.8100], dtype=torch.float64),\n",
       " tensor([3.4500, 2.5700], dtype=torch.float64),\n",
       " tensor([2.0800, 2.5700], dtype=torch.float64)]"
      ]
     },
     "execution_count": 11,
     "metadata": {},
     "output_type": "execute_result"
    }
   ],
   "source": [
    "y"
   ]
  },
  {
   "cell_type": "code",
   "execution_count": 12,
   "id": "015a9d3a",
   "metadata": {},
   "outputs": [
    {
     "name": "stderr",
     "output_type": "stream",
     "text": [
      "C:\\Users\\kazzh\\Anaconda3\\lib\\site-packages\\torch\\nn\\modules\\loss.py:528: UserWarning: Using a target size (torch.Size([2])) that is different to the input size (torch.Size([399, 2])). This will likely lead to incorrect results due to broadcasting. Please ensure they have the same size.\n",
      "  return F.mse_loss(input, target, reduction=self.reduction)\n",
      "C:\\Users\\kazzh\\Anaconda3\\lib\\site-packages\\torch\\nn\\modules\\loss.py:528: UserWarning: Using a target size (torch.Size([2])) that is different to the input size (torch.Size([300, 2])). This will likely lead to incorrect results due to broadcasting. Please ensure they have the same size.\n",
      "  return F.mse_loss(input, target, reduction=self.reduction)\n",
      "C:\\Users\\kazzh\\Anaconda3\\lib\\site-packages\\torch\\nn\\modules\\loss.py:528: UserWarning: Using a target size (torch.Size([2])) that is different to the input size (torch.Size([500, 2])). This will likely lead to incorrect results due to broadcasting. Please ensure they have the same size.\n",
      "  return F.mse_loss(input, target, reduction=self.reduction)\n"
     ]
    }
   ],
   "source": [
    "for i in range(10000):\n",
    "    for x_i, y_i in zip(X, y):\n",
    "    \n",
    "        outputs = model(x_i.float())\n",
    "        loss = criterion(outputs, y_i.float())\n",
    "        optimizer.zero_grad()\n",
    "        loss.backward()\n",
    "        optimizer.step()\n",
    "    \n",
    "#         print(loss.item())"
   ]
  },
  {
   "cell_type": "code",
   "execution_count": 13,
   "id": "31f726da",
   "metadata": {},
   "outputs": [
    {
     "data": {
      "text/plain": [
       "11"
      ]
     },
     "execution_count": 13,
     "metadata": {},
     "output_type": "execute_result"
    }
   ],
   "source": [
    "len(cp_list)"
   ]
  },
  {
   "cell_type": "code",
   "execution_count": 65,
   "id": "d396aafd",
   "metadata": {},
   "outputs": [],
   "source": [
    "maps_train = []\n",
    "for i in list(itertools.chain(cp_list[0], cp_list[1], cp_list[2], cp_list[3])):\n",
    "    testI = torch.from_numpy(i)\n",
    "    prediction = model(testI.float()).tolist()\n",
    "    maps_train.append(prediction)"
   ]
  },
  {
   "cell_type": "code",
   "execution_count": 66,
   "id": "576f727d",
   "metadata": {},
   "outputs": [
    {
     "data": {
      "text/plain": [
       "<matplotlib.collections.PathCollection at 0x1702a521388>"
      ]
     },
     "execution_count": 66,
     "metadata": {},
     "output_type": "execute_result"
    },
    {
     "data": {
      "image/png": "[encoded data removed]",
      "text/plain": [
       "<Figure size 432x288 with 1 Axes>"
      ]
     },
     "metadata": {
      "needs_background": "light"
     },
     "output_type": "display_data"
    }
   ],
   "source": [
    "mapX_train = [x[0] for x in maps_train]\n",
    "mapy_train = [x[1] for x in maps_train]\n",
    "plt.scatter(mapX_train, mapy_train, s=2)"
   ]
  },
  {
   "cell_type": "code",
   "execution_count": 17,
   "id": "52dea2a1",
   "metadata": {},
   "outputs": [],
   "source": [
    "maps = []\n",
    "for i in active_L_table_slide_DOA:\n",
    "    testI = torch.from_numpy(i)\n",
    "    prediction = model(testI.float()).tolist()\n",
    "    maps.append(prediction)"
   ]
  },
  {
   "cell_type": "code",
   "execution_count": 68,
   "id": "b985cf39",
   "metadata": {},
   "outputs": [
    {
     "data": {
      "text/plain": [
       "<matplotlib.collections.PathCollection at 0x1702a911788>"
      ]
     },
     "execution_count": 68,
     "metadata": {},
     "output_type": "execute_result"
    },
    {
     "data": {
      "image/png": "[encoded data removed]",
      "text/plain": [
       "<Figure size 432x288 with 1 Axes>"
      ]
     },
     "metadata": {
      "needs_background": "light"
     },
     "output_type": "display_data"
    }
   ],
   "source": [
    "mapX = [x[0] for x in maps]\n",
    "mapy = [x[1] for x in maps]\n",
    "plt.scatter(mapX, mapy, s=2)\n",
    "plt.scatter(room_x, room_y, s=2)\n",
    "plt.scatter(mapX_train, mapy_train, s=2)"
   ]
  },
  {
   "cell_type": "code",
   "execution_count": 19,
   "id": "d1ca3a38",
   "metadata": {},
   "outputs": [],
   "source": [
    "l_maps = []\n",
    "for i in active_long_table_slide_DOA:\n",
    "    testI = torch.from_numpy(i)\n",
    "    prediction = model(testI.float()).tolist()\n",
    "    l_maps.append(prediction)"
   ]
  },
  {
   "cell_type": "code",
   "execution_count": 20,
   "id": "6c70605c",
   "metadata": {},
   "outputs": [
    {
     "data": {
      "text/plain": [
       "<matplotlib.collections.PathCollection at 0x1702829b108>"
      ]
     },
     "execution_count": 20,
     "metadata": {},
     "output_type": "execute_result"
    },
    {
     "data": {
      "image/png": "[encoded data removed]",
      "text/plain": [
       "<Figure size 432x288 with 1 Axes>"
      ]
     },
     "metadata": {
      "needs_background": "light"
     },
     "output_type": "display_data"
    }
   ],
   "source": [
    "mapX_l = [x[0] for x in l_maps]\n",
    "mapy_l = [x[1] for x in l_maps]\n",
    "plt.scatter(mapX_l, mapy_l, s=2)\n",
    "plt.scatter(room_x, room_y, s=2)"
   ]
  },
  {
   "cell_type": "code",
   "execution_count": 21,
   "id": "0d5aee7e",
   "metadata": {},
   "outputs": [
    {
     "data": {
      "text/plain": [
       "<matplotlib.collections.PathCollection at 0x17028320108>"
      ]
     },
     "execution_count": 21,
     "metadata": {},
     "output_type": "execute_result"
    },
    {
     "data": {
      "image/png": "[encoded data removed]",
      "text/plain": [
       "<Figure size 432x288 with 1 Axes>"
      ]
     },
     "metadata": {
      "needs_background": "light"
     },
     "output_type": "display_data"
    }
   ],
   "source": [
    "plt.scatter(mapX, mapy, s=2)\n",
    "plt.scatter(mapX_l, mapy_l, s=2)"
   ]
  },
  {
   "cell_type": "code",
   "execution_count": 22,
   "id": "e8c58c15",
   "metadata": {},
   "outputs": [],
   "source": [
    "maps = []\n",
    "for i in active_L_table_slide_DOA:\n",
    "    testI = torch.from_numpy(i)\n",
    "    prediction = model(testI.float()).tolist()\n",
    "    maps.append(prediction)"
   ]
  },
  {
   "cell_type": "code",
   "execution_count": 23,
   "id": "3140bbd1",
   "metadata": {},
   "outputs": [
    {
     "data": {
      "text/plain": [
       "dict_keys(['active_long_table_slide_DOA', 'active_long_table_slide_matrix', 'cp_list', 'active_L_table_slide_matrix', 'active_L_table_slide_DOA'])"
      ]
     },
     "execution_count": 23,
     "metadata": {},
     "output_type": "execute_result"
    }
   ],
   "source": [
    "V5.keys()"
   ]
  },
  {
   "cell_type": "code",
   "execution_count": 24,
   "id": "a69e9441",
   "metadata": {},
   "outputs": [],
   "source": [
    "sys.path.append('../src/data_processing')\n",
    "from make_coords import make_coords"
   ]
  },
  {
   "cell_type": "code",
   "execution_count": 25,
   "id": "3b7cee30",
   "metadata": {},
   "outputs": [],
   "source": [
    "import pandas as pd\n",
    "import itertools\n",
    "doa2 = pickle.load(open('../data/doa_proj2_allData.p','rb'))"
   ]
  },
  {
   "cell_type": "code",
   "execution_count": 26,
   "id": "01ffeb56",
   "metadata": {},
   "outputs": [
    {
     "data": {
      "text/html": [
       "<div>\n",
       "<style scoped>\n",
       "    .dataframe tbody tr th:only-of-type {\n",
       "        vertical-align: middle;\n",
       "    }\n",
       "\n",
       "    .dataframe tbody tr th {\n",
       "        vertical-align: top;\n",
       "    }\n",
       "\n",
       "    .dataframe thead th {\n",
       "        text-align: right;\n",
       "    }\n",
       "</style>\n",
       "<table border=\"1\" class=\"dataframe\">\n",
       "  <thead>\n",
       "    <tr style=\"text-align: right;\">\n",
       "      <th></th>\n",
       "      <th>quantized_time</th>\n",
       "      <th>X_0_0</th>\n",
       "      <th>Y_0_0</th>\n",
       "      <th>Z_0_0</th>\n",
       "      <th>X_0_1</th>\n",
       "      <th>Y_0_1</th>\n",
       "      <th>Z_0_1</th>\n",
       "      <th>X_0_2</th>\n",
       "      <th>Y_0_2</th>\n",
       "      <th>Z_0_2</th>\n",
       "      <th>...</th>\n",
       "      <th>Z_0_4</th>\n",
       "      <th>X_0_5</th>\n",
       "      <th>Y_0_5</th>\n",
       "      <th>Z_0_5</th>\n",
       "      <th>X_0_6</th>\n",
       "      <th>Y_0_6</th>\n",
       "      <th>Z_0_6</th>\n",
       "      <th>X_0_7</th>\n",
       "      <th>Y_0_7</th>\n",
       "      <th>Z_0_7</th>\n",
       "    </tr>\n",
       "  </thead>\n",
       "  <tbody>\n",
       "    <tr>\n",
       "      <th>0</th>\n",
       "      <td>1645930620.000</td>\n",
       "      <td>NaN</td>\n",
       "      <td>NaN</td>\n",
       "      <td>NaN</td>\n",
       "      <td>NaN</td>\n",
       "      <td>NaN</td>\n",
       "      <td>NaN</td>\n",
       "      <td>NaN</td>\n",
       "      <td>NaN</td>\n",
       "      <td>NaN</td>\n",
       "      <td>...</td>\n",
       "      <td>NaN</td>\n",
       "      <td>0.587750</td>\n",
       "      <td>-0.146250</td>\n",
       "      <td>0.795250</td>\n",
       "      <td>NaN</td>\n",
       "      <td>NaN</td>\n",
       "      <td>NaN</td>\n",
       "      <td>0.279625</td>\n",
       "      <td>-0.754125</td>\n",
       "      <td>0.59400</td>\n",
       "    </tr>\n",
       "    <tr>\n",
       "      <th>1</th>\n",
       "      <td>1645930620.064</td>\n",
       "      <td>NaN</td>\n",
       "      <td>NaN</td>\n",
       "      <td>NaN</td>\n",
       "      <td>NaN</td>\n",
       "      <td>NaN</td>\n",
       "      <td>NaN</td>\n",
       "      <td>NaN</td>\n",
       "      <td>NaN</td>\n",
       "      <td>NaN</td>\n",
       "      <td>...</td>\n",
       "      <td>NaN</td>\n",
       "      <td>0.593000</td>\n",
       "      <td>-0.142375</td>\n",
       "      <td>0.792625</td>\n",
       "      <td>NaN</td>\n",
       "      <td>NaN</td>\n",
       "      <td>NaN</td>\n",
       "      <td>0.282125</td>\n",
       "      <td>-0.752125</td>\n",
       "      <td>0.59550</td>\n",
       "    </tr>\n",
       "    <tr>\n",
       "      <th>2</th>\n",
       "      <td>1645930620.128</td>\n",
       "      <td>NaN</td>\n",
       "      <td>NaN</td>\n",
       "      <td>NaN</td>\n",
       "      <td>NaN</td>\n",
       "      <td>NaN</td>\n",
       "      <td>NaN</td>\n",
       "      <td>NaN</td>\n",
       "      <td>NaN</td>\n",
       "      <td>NaN</td>\n",
       "      <td>...</td>\n",
       "      <td>NaN</td>\n",
       "      <td>0.597375</td>\n",
       "      <td>-0.139125</td>\n",
       "      <td>0.790125</td>\n",
       "      <td>NaN</td>\n",
       "      <td>NaN</td>\n",
       "      <td>NaN</td>\n",
       "      <td>0.286500</td>\n",
       "      <td>-0.749500</td>\n",
       "      <td>0.59675</td>\n",
       "    </tr>\n",
       "    <tr>\n",
       "      <th>3</th>\n",
       "      <td>1645930620.192</td>\n",
       "      <td>NaN</td>\n",
       "      <td>NaN</td>\n",
       "      <td>NaN</td>\n",
       "      <td>NaN</td>\n",
       "      <td>NaN</td>\n",
       "      <td>NaN</td>\n",
       "      <td>NaN</td>\n",
       "      <td>NaN</td>\n",
       "      <td>NaN</td>\n",
       "      <td>...</td>\n",
       "      <td>NaN</td>\n",
       "      <td>0.600750</td>\n",
       "      <td>-0.136250</td>\n",
       "      <td>0.787875</td>\n",
       "      <td>NaN</td>\n",
       "      <td>NaN</td>\n",
       "      <td>NaN</td>\n",
       "      <td>0.288875</td>\n",
       "      <td>-0.747625</td>\n",
       "      <td>0.59800</td>\n",
       "    </tr>\n",
       "    <tr>\n",
       "      <th>4</th>\n",
       "      <td>1645930620.256</td>\n",
       "      <td>NaN</td>\n",
       "      <td>NaN</td>\n",
       "      <td>NaN</td>\n",
       "      <td>NaN</td>\n",
       "      <td>NaN</td>\n",
       "      <td>NaN</td>\n",
       "      <td>NaN</td>\n",
       "      <td>NaN</td>\n",
       "      <td>NaN</td>\n",
       "      <td>...</td>\n",
       "      <td>NaN</td>\n",
       "      <td>0.603375</td>\n",
       "      <td>-0.133500</td>\n",
       "      <td>0.786375</td>\n",
       "      <td>NaN</td>\n",
       "      <td>NaN</td>\n",
       "      <td>NaN</td>\n",
       "      <td>0.291250</td>\n",
       "      <td>-0.746375</td>\n",
       "      <td>0.59850</td>\n",
       "    </tr>\n",
       "    <tr>\n",
       "      <th>...</th>\n",
       "      <td>...</td>\n",
       "      <td>...</td>\n",
       "      <td>...</td>\n",
       "      <td>...</td>\n",
       "      <td>...</td>\n",
       "      <td>...</td>\n",
       "      <td>...</td>\n",
       "      <td>...</td>\n",
       "      <td>...</td>\n",
       "      <td>...</td>\n",
       "      <td>...</td>\n",
       "      <td>...</td>\n",
       "      <td>...</td>\n",
       "      <td>...</td>\n",
       "      <td>...</td>\n",
       "      <td>...</td>\n",
       "      <td>...</td>\n",
       "      <td>...</td>\n",
       "      <td>...</td>\n",
       "      <td>...</td>\n",
       "      <td>...</td>\n",
       "    </tr>\n",
       "    <tr>\n",
       "      <th>1870</th>\n",
       "      <td>1645930739.680</td>\n",
       "      <td>NaN</td>\n",
       "      <td>NaN</td>\n",
       "      <td>NaN</td>\n",
       "      <td>NaN</td>\n",
       "      <td>NaN</td>\n",
       "      <td>NaN</td>\n",
       "      <td>NaN</td>\n",
       "      <td>NaN</td>\n",
       "      <td>NaN</td>\n",
       "      <td>...</td>\n",
       "      <td>NaN</td>\n",
       "      <td>0.584250</td>\n",
       "      <td>-0.130125</td>\n",
       "      <td>0.801000</td>\n",
       "      <td>NaN</td>\n",
       "      <td>NaN</td>\n",
       "      <td>NaN</td>\n",
       "      <td>0.286000</td>\n",
       "      <td>-0.738000</td>\n",
       "      <td>0.61100</td>\n",
       "    </tr>\n",
       "    <tr>\n",
       "      <th>1871</th>\n",
       "      <td>1645930739.744</td>\n",
       "      <td>NaN</td>\n",
       "      <td>NaN</td>\n",
       "      <td>NaN</td>\n",
       "      <td>NaN</td>\n",
       "      <td>NaN</td>\n",
       "      <td>NaN</td>\n",
       "      <td>NaN</td>\n",
       "      <td>NaN</td>\n",
       "      <td>NaN</td>\n",
       "      <td>...</td>\n",
       "      <td>NaN</td>\n",
       "      <td>0.582250</td>\n",
       "      <td>-0.132000</td>\n",
       "      <td>0.802375</td>\n",
       "      <td>NaN</td>\n",
       "      <td>NaN</td>\n",
       "      <td>NaN</td>\n",
       "      <td>0.286750</td>\n",
       "      <td>-0.738000</td>\n",
       "      <td>0.61100</td>\n",
       "    </tr>\n",
       "    <tr>\n",
       "      <th>1872</th>\n",
       "      <td>1645930739.808</td>\n",
       "      <td>NaN</td>\n",
       "      <td>NaN</td>\n",
       "      <td>NaN</td>\n",
       "      <td>NaN</td>\n",
       "      <td>NaN</td>\n",
       "      <td>NaN</td>\n",
       "      <td>NaN</td>\n",
       "      <td>NaN</td>\n",
       "      <td>NaN</td>\n",
       "      <td>...</td>\n",
       "      <td>NaN</td>\n",
       "      <td>0.583250</td>\n",
       "      <td>-0.131375</td>\n",
       "      <td>0.801500</td>\n",
       "      <td>NaN</td>\n",
       "      <td>NaN</td>\n",
       "      <td>NaN</td>\n",
       "      <td>0.287000</td>\n",
       "      <td>-0.738000</td>\n",
       "      <td>0.61075</td>\n",
       "    </tr>\n",
       "    <tr>\n",
       "      <th>1873</th>\n",
       "      <td>1645930739.872</td>\n",
       "      <td>NaN</td>\n",
       "      <td>NaN</td>\n",
       "      <td>NaN</td>\n",
       "      <td>NaN</td>\n",
       "      <td>NaN</td>\n",
       "      <td>NaN</td>\n",
       "      <td>NaN</td>\n",
       "      <td>NaN</td>\n",
       "      <td>NaN</td>\n",
       "      <td>...</td>\n",
       "      <td>NaN</td>\n",
       "      <td>0.582625</td>\n",
       "      <td>-0.130000</td>\n",
       "      <td>0.802000</td>\n",
       "      <td>NaN</td>\n",
       "      <td>NaN</td>\n",
       "      <td>NaN</td>\n",
       "      <td>0.287875</td>\n",
       "      <td>-0.737375</td>\n",
       "      <td>0.61100</td>\n",
       "    </tr>\n",
       "    <tr>\n",
       "      <th>1874</th>\n",
       "      <td>1645930739.936</td>\n",
       "      <td>NaN</td>\n",
       "      <td>NaN</td>\n",
       "      <td>NaN</td>\n",
       "      <td>NaN</td>\n",
       "      <td>NaN</td>\n",
       "      <td>NaN</td>\n",
       "      <td>NaN</td>\n",
       "      <td>NaN</td>\n",
       "      <td>NaN</td>\n",
       "      <td>...</td>\n",
       "      <td>NaN</td>\n",
       "      <td>0.582375</td>\n",
       "      <td>-0.130625</td>\n",
       "      <td>0.802375</td>\n",
       "      <td>NaN</td>\n",
       "      <td>NaN</td>\n",
       "      <td>NaN</td>\n",
       "      <td>0.287000</td>\n",
       "      <td>-0.738000</td>\n",
       "      <td>0.61100</td>\n",
       "    </tr>\n",
       "  </tbody>\n",
       "</table>\n",
       "<p>1875 rows × 25 columns</p>\n",
       "</div>"
      ],
      "text/plain": [
       "      quantized_time  X_0_0  Y_0_0  Z_0_0  X_0_1  Y_0_1  Z_0_1  X_0_2  Y_0_2  \\\n",
       "0     1645930620.000    NaN    NaN    NaN    NaN    NaN    NaN    NaN    NaN   \n",
       "1     1645930620.064    NaN    NaN    NaN    NaN    NaN    NaN    NaN    NaN   \n",
       "2     1645930620.128    NaN    NaN    NaN    NaN    NaN    NaN    NaN    NaN   \n",
       "3     1645930620.192    NaN    NaN    NaN    NaN    NaN    NaN    NaN    NaN   \n",
       "4     1645930620.256    NaN    NaN    NaN    NaN    NaN    NaN    NaN    NaN   \n",
       "...              ...    ...    ...    ...    ...    ...    ...    ...    ...   \n",
       "1870  1645930739.680    NaN    NaN    NaN    NaN    NaN    NaN    NaN    NaN   \n",
       "1871  1645930739.744    NaN    NaN    NaN    NaN    NaN    NaN    NaN    NaN   \n",
       "1872  1645930739.808    NaN    NaN    NaN    NaN    NaN    NaN    NaN    NaN   \n",
       "1873  1645930739.872    NaN    NaN    NaN    NaN    NaN    NaN    NaN    NaN   \n",
       "1874  1645930739.936    NaN    NaN    NaN    NaN    NaN    NaN    NaN    NaN   \n",
       "\n",
       "      Z_0_2  ...  Z_0_4     X_0_5     Y_0_5     Z_0_5  X_0_6  Y_0_6  Z_0_6  \\\n",
       "0       NaN  ...    NaN  0.587750 -0.146250  0.795250    NaN    NaN    NaN   \n",
       "1       NaN  ...    NaN  0.593000 -0.142375  0.792625    NaN    NaN    NaN   \n",
       "2       NaN  ...    NaN  0.597375 -0.139125  0.790125    NaN    NaN    NaN   \n",
       "3       NaN  ...    NaN  0.600750 -0.136250  0.787875    NaN    NaN    NaN   \n",
       "4       NaN  ...    NaN  0.603375 -0.133500  0.786375    NaN    NaN    NaN   \n",
       "...     ...  ...    ...       ...       ...       ...    ...    ...    ...   \n",
       "1870    NaN  ...    NaN  0.584250 -0.130125  0.801000    NaN    NaN    NaN   \n",
       "1871    NaN  ...    NaN  0.582250 -0.132000  0.802375    NaN    NaN    NaN   \n",
       "1872    NaN  ...    NaN  0.583250 -0.131375  0.801500    NaN    NaN    NaN   \n",
       "1873    NaN  ...    NaN  0.582625 -0.130000  0.802000    NaN    NaN    NaN   \n",
       "1874    NaN  ...    NaN  0.582375 -0.130625  0.802375    NaN    NaN    NaN   \n",
       "\n",
       "         X_0_7     Y_0_7    Z_0_7  \n",
       "0     0.279625 -0.754125  0.59400  \n",
       "1     0.282125 -0.752125  0.59550  \n",
       "2     0.286500 -0.749500  0.59675  \n",
       "3     0.288875 -0.747625  0.59800  \n",
       "4     0.291250 -0.746375  0.59850  \n",
       "...        ...       ...      ...  \n",
       "1870  0.286000 -0.738000  0.61100  \n",
       "1871  0.286750 -0.738000  0.61100  \n",
       "1872  0.287000 -0.738000  0.61075  \n",
       "1873  0.287875 -0.737375  0.61100  \n",
       "1874  0.287000 -0.738000  0.61100  \n",
       "\n",
       "[1875 rows x 25 columns]"
      ]
     },
     "execution_count": 26,
     "metadata": {},
     "output_type": "execute_result"
    }
   ],
   "source": [
    "doa2['cp12']['source0']"
   ]
  },
  {
   "cell_type": "code",
   "execution_count": 27,
   "id": "7f58c3c0",
   "metadata": {},
   "outputs": [],
   "source": [
    "cp1 = doa2['cp1']['source0'].dropna(axis=1, how='all').iloc[600:1200, 1:].to_numpy()\n",
    "cp2 = doa2['cp2']['source0'].dropna(axis=1, how='all').iloc[600:1200, 1:].to_numpy()\n",
    "cp3 = doa2['cp3']['source0'].dropna(axis=1, how='all').iloc[600:1200, 1:].to_numpy()\n",
    "cp4 = doa2['cp4']['source0'].dropna(axis=1, how='all').iloc[600:1200, 1:].to_numpy()\n",
    "cp5 = doa2['cp5']['source0'].dropna(axis=1, how='all').iloc[600:1200, 1:].to_numpy()\n",
    "cp6 = doa2['cp6']['source0'].dropna(axis=1, how='all').iloc[600:1200, 1:].to_numpy()\n",
    "cp7 = doa2['cp7']['source0'].dropna(axis=1, how='all').iloc[600:1200, 1:].to_numpy()\n",
    "cp8 = doa2['cp8']['source0'].dropna(axis=1, how='all').iloc[600:1200, 1:].to_numpy()\n",
    "cp9 = doa2['cp9']['source0'].dropna(axis=1, how='all').iloc[600:1200, 1:].to_numpy()\n",
    "cp10 = doa2['cp10']['source0'].dropna(axis=1, how='all').iloc[600:1200, 1:].to_numpy()\n",
    "cp11 = doa2['cp11']['source0'].dropna(axis=1, how='all').iloc[600:1200, 1:].to_numpy()\n",
    "cp12 = doa2['cp12']['source0'].dropna(axis=1, how='all').iloc[600:1200, 1:].to_numpy()"
   ]
  },
  {
   "cell_type": "code",
   "execution_count": 28,
   "id": "7114dab1",
   "metadata": {},
   "outputs": [],
   "source": [
    "y1 = load_coordinates()[1]\n",
    "y2 = load_coordinates()[2]\n",
    "y3 = load_coordinates()[3]\n",
    "y4 = load_coordinates()[4]\n",
    "y5 = load_coordinates()[5]\n",
    "y6 = load_coordinates()[6]\n",
    "y7 = load_coordinates()[7]\n",
    "y8 = load_coordinates()[8]\n",
    "y9 = load_coordinates()[9]\n",
    "y10 = load_coordinates()[10]\n",
    "y11 = load_coordinates()[11]\n",
    "y12 = load_coordinates()[12]"
   ]
  },
  {
   "cell_type": "code",
   "execution_count": 29,
   "id": "768dc1da",
   "metadata": {},
   "outputs": [
    {
     "data": {
      "text/plain": [
       "array([130.  ,  52.75])"
      ]
     },
     "execution_count": 29,
     "metadata": {},
     "output_type": "execute_result"
    }
   ],
   "source": [
    "y1"
   ]
  },
  {
   "cell_type": "code",
   "execution_count": 30,
   "id": "11b019e5",
   "metadata": {},
   "outputs": [
    {
     "data": {
      "text/plain": [
       "0      2022-02-27 02:39:00\n",
       "1      2022-02-27 02:39:00\n",
       "2      2022-02-27 02:39:00\n",
       "3      2022-02-27 02:39:00\n",
       "4      2022-02-27 02:39:00\n",
       "               ...        \n",
       "1400   2022-02-27 02:40:59\n",
       "1401   2022-02-27 02:40:59\n",
       "1402   2022-02-27 02:40:59\n",
       "1403   2022-02-27 02:40:59\n",
       "1404   2022-02-27 02:40:59\n",
       "Name: quantized_time, Length: 1405, dtype: datetime64[ns]"
      ]
     },
     "execution_count": 30,
     "metadata": {},
     "output_type": "execute_result"
    }
   ],
   "source": [
    "pd.to_datetime(doa2['cp3']['source0']['quantized_time'].astype('int'), unit='s')"
   ]
  },
  {
   "cell_type": "code",
   "execution_count": 31,
   "id": "c1a1c27c",
   "metadata": {},
   "outputs": [
    {
     "data": {
      "text/html": [
       "<div>\n",
       "<style scoped>\n",
       "    .dataframe tbody tr th:only-of-type {\n",
       "        vertical-align: middle;\n",
       "    }\n",
       "\n",
       "    .dataframe tbody tr th {\n",
       "        vertical-align: top;\n",
       "    }\n",
       "\n",
       "    .dataframe thead th {\n",
       "        text-align: right;\n",
       "    }\n",
       "</style>\n",
       "<table border=\"1\" class=\"dataframe\">\n",
       "  <thead>\n",
       "    <tr style=\"text-align: right;\">\n",
       "      <th></th>\n",
       "      <th>6</th>\n",
       "      <th>7</th>\n",
       "      <th>8</th>\n",
       "      <th>9</th>\n",
       "      <th>10</th>\n",
       "      <th>11</th>\n",
       "      <th>12</th>\n",
       "      <th>13</th>\n",
       "      <th>14</th>\n",
       "    </tr>\n",
       "  </thead>\n",
       "  <tbody>\n",
       "    <tr>\n",
       "      <th>0</th>\n",
       "      <td>-0.262000</td>\n",
       "      <td>0.434000</td>\n",
       "      <td>0.862000</td>\n",
       "      <td>0.239000</td>\n",
       "      <td>-0.555000</td>\n",
       "      <td>0.797000</td>\n",
       "      <td>0.400000</td>\n",
       "      <td>0.41000</td>\n",
       "      <td>0.820000</td>\n",
       "    </tr>\n",
       "    <tr>\n",
       "      <th>1</th>\n",
       "      <td>-0.261000</td>\n",
       "      <td>0.434000</td>\n",
       "      <td>0.862000</td>\n",
       "      <td>0.239000</td>\n",
       "      <td>-0.555000</td>\n",
       "      <td>0.797000</td>\n",
       "      <td>0.400000</td>\n",
       "      <td>0.41000</td>\n",
       "      <td>0.820000</td>\n",
       "    </tr>\n",
       "    <tr>\n",
       "      <th>2</th>\n",
       "      <td>-0.261000</td>\n",
       "      <td>0.434000</td>\n",
       "      <td>0.862000</td>\n",
       "      <td>0.238625</td>\n",
       "      <td>-0.554375</td>\n",
       "      <td>0.797000</td>\n",
       "      <td>0.400000</td>\n",
       "      <td>0.41000</td>\n",
       "      <td>0.820000</td>\n",
       "    </tr>\n",
       "    <tr>\n",
       "      <th>3</th>\n",
       "      <td>-0.261000</td>\n",
       "      <td>0.434000</td>\n",
       "      <td>0.862000</td>\n",
       "      <td>0.239000</td>\n",
       "      <td>-0.554000</td>\n",
       "      <td>0.797000</td>\n",
       "      <td>0.400000</td>\n",
       "      <td>0.41000</td>\n",
       "      <td>0.820000</td>\n",
       "    </tr>\n",
       "    <tr>\n",
       "      <th>4</th>\n",
       "      <td>-0.261000</td>\n",
       "      <td>0.434000</td>\n",
       "      <td>0.862000</td>\n",
       "      <td>0.239000</td>\n",
       "      <td>-0.554000</td>\n",
       "      <td>0.797000</td>\n",
       "      <td>0.400000</td>\n",
       "      <td>0.41000</td>\n",
       "      <td>0.820000</td>\n",
       "    </tr>\n",
       "    <tr>\n",
       "      <th>...</th>\n",
       "      <td>...</td>\n",
       "      <td>...</td>\n",
       "      <td>...</td>\n",
       "      <td>...</td>\n",
       "      <td>...</td>\n",
       "      <td>...</td>\n",
       "      <td>...</td>\n",
       "      <td>...</td>\n",
       "      <td>...</td>\n",
       "    </tr>\n",
       "    <tr>\n",
       "      <th>832</th>\n",
       "      <td>-0.229250</td>\n",
       "      <td>0.438750</td>\n",
       "      <td>0.868875</td>\n",
       "      <td>0.246250</td>\n",
       "      <td>-0.509750</td>\n",
       "      <td>0.824250</td>\n",
       "      <td>0.368250</td>\n",
       "      <td>0.41925</td>\n",
       "      <td>0.829625</td>\n",
       "    </tr>\n",
       "    <tr>\n",
       "      <th>833</th>\n",
       "      <td>-0.230000</td>\n",
       "      <td>0.437000</td>\n",
       "      <td>0.869625</td>\n",
       "      <td>0.243000</td>\n",
       "      <td>-0.511875</td>\n",
       "      <td>0.824000</td>\n",
       "      <td>0.368500</td>\n",
       "      <td>0.41725</td>\n",
       "      <td>0.830875</td>\n",
       "    </tr>\n",
       "    <tr>\n",
       "      <th>834</th>\n",
       "      <td>-0.231125</td>\n",
       "      <td>0.435375</td>\n",
       "      <td>0.870000</td>\n",
       "      <td>0.241750</td>\n",
       "      <td>-0.513000</td>\n",
       "      <td>0.823500</td>\n",
       "      <td>0.369375</td>\n",
       "      <td>0.41525</td>\n",
       "      <td>0.831125</td>\n",
       "    </tr>\n",
       "    <tr>\n",
       "      <th>835</th>\n",
       "      <td>-0.231250</td>\n",
       "      <td>0.433625</td>\n",
       "      <td>0.870875</td>\n",
       "      <td>0.238375</td>\n",
       "      <td>-0.513250</td>\n",
       "      <td>0.824375</td>\n",
       "      <td>0.366750</td>\n",
       "      <td>0.41450</td>\n",
       "      <td>0.832750</td>\n",
       "    </tr>\n",
       "    <tr>\n",
       "      <th>836</th>\n",
       "      <td>-0.231375</td>\n",
       "      <td>0.432625</td>\n",
       "      <td>0.871125</td>\n",
       "      <td>0.233875</td>\n",
       "      <td>-0.515500</td>\n",
       "      <td>0.824500</td>\n",
       "      <td>0.363000</td>\n",
       "      <td>0.41675</td>\n",
       "      <td>0.833250</td>\n",
       "    </tr>\n",
       "  </tbody>\n",
       "</table>\n",
       "<p>837 rows × 9 columns</p>\n",
       "</div>"
      ],
      "text/plain": [
       "           6         7         8         9         10        11        12  \\\n",
       "0   -0.262000  0.434000  0.862000  0.239000 -0.555000  0.797000  0.400000   \n",
       "1   -0.261000  0.434000  0.862000  0.239000 -0.555000  0.797000  0.400000   \n",
       "2   -0.261000  0.434000  0.862000  0.238625 -0.554375  0.797000  0.400000   \n",
       "3   -0.261000  0.434000  0.862000  0.239000 -0.554000  0.797000  0.400000   \n",
       "4   -0.261000  0.434000  0.862000  0.239000 -0.554000  0.797000  0.400000   \n",
       "..        ...       ...       ...       ...       ...       ...       ...   \n",
       "832 -0.229250  0.438750  0.868875  0.246250 -0.509750  0.824250  0.368250   \n",
       "833 -0.230000  0.437000  0.869625  0.243000 -0.511875  0.824000  0.368500   \n",
       "834 -0.231125  0.435375  0.870000  0.241750 -0.513000  0.823500  0.369375   \n",
       "835 -0.231250  0.433625  0.870875  0.238375 -0.513250  0.824375  0.366750   \n",
       "836 -0.231375  0.432625  0.871125  0.233875 -0.515500  0.824500  0.363000   \n",
       "\n",
       "          13        14  \n",
       "0    0.41000  0.820000  \n",
       "1    0.41000  0.820000  \n",
       "2    0.41000  0.820000  \n",
       "3    0.41000  0.820000  \n",
       "4    0.41000  0.820000  \n",
       "..       ...       ...  \n",
       "832  0.41925  0.829625  \n",
       "833  0.41725  0.830875  \n",
       "834  0.41525  0.831125  \n",
       "835  0.41450  0.832750  \n",
       "836  0.41675  0.833250  \n",
       "\n",
       "[837 rows x 9 columns]"
      ]
     },
     "execution_count": 31,
     "metadata": {},
     "output_type": "execute_result"
    }
   ],
   "source": [
    "pd.DataFrame(active_L_table_slide_DOA).iloc[:,6:]"
   ]
  },
  {
   "cell_type": "code",
   "execution_count": 32,
   "id": "b5fc7bd0",
   "metadata": {},
   "outputs": [],
   "source": [
    "cps = [cp1, cp2, cp3, cp4, cp5, cp6, cp7, cp8, cp9, cp10, cp11, cp12]\n",
    "ys = [y1, y2, y3, y4, y5, y6, y7, y8, y9, y10, y11, y12]"
   ]
  },
  {
   "cell_type": "code",
   "execution_count": 48,
   "id": "7eccac03",
   "metadata": {},
   "outputs": [],
   "source": [
    "model_9 = NeuralNet(input_size=9, hidden_size=20, output_size=output_size)\n",
    "model_9 = model_9.float()\n",
    "criterion_9 = nn.MSELoss()\n",
    "optimizer_9 = torch.optim.SGD(model_9.parameters(), lr=learning_rate)"
   ]
  },
  {
   "cell_type": "code",
   "execution_count": 34,
   "id": "8f502b62",
   "metadata": {},
   "outputs": [],
   "source": [
    "# first four are table coordinates\n",
    "cp_torch = [torch.from_numpy(cp) for cp in cp_list[:4]]\n",
    "room_coords = [torch.from_numpy(np.array([i[0], i[1]])) for i in ROOM_COORDINATES[:4]]"
   ]
  },
  {
   "cell_type": "code",
   "execution_count": 35,
   "id": "25d15dca",
   "metadata": {},
   "outputs": [],
   "source": [
    "X_9 = [torch.from_numpy(cp4), torch.from_numpy(cp6), torch.from_numpy(cp10), torch.from_numpy(cp12)]\n",
    "y_9 = [torch.from_numpy(y4), torch.from_numpy(y6), torch.from_numpy(y10), torch.from_numpy(y12)]"
   ]
  },
  {
   "cell_type": "code",
   "execution_count": 36,
   "id": "8d20a517",
   "metadata": {},
   "outputs": [
    {
     "data": {
      "text/plain": [
       "<matplotlib.collections.PathCollection at 0x1702aa10cc8>"
      ]
     },
     "execution_count": 36,
     "metadata": {},
     "output_type": "execute_result"
    },
    {
     "data": {
      "image/png": "[encoded data removed]",
      "text/plain": [
       "<Figure size 432x288 with 1 Axes>"
      ]
     },
     "metadata": {
      "needs_background": "light"
     },
     "output_type": "display_data"
    }
   ],
   "source": [
    "room_x1 = [i[0] for i in [y4, y6, y10, y12]]\n",
    "room_y1 = [i[1] for i in [y4, y6, y10, y12]]\n",
    "plt.scatter(room_x1, room_y1, s=2)"
   ]
  },
  {
   "cell_type": "code",
   "execution_count": 37,
   "id": "b067682f",
   "metadata": {},
   "outputs": [
    {
     "data": {
      "text/plain": [
       "<matplotlib.collections.PathCollection at 0x1702aa10b48>"
      ]
     },
     "execution_count": 37,
     "metadata": {},
     "output_type": "execute_result"
    },
    {
     "data": {
      "image/png": "[encoded data removed]",
      "text/plain": [
       "<Figure size 432x288 with 1 Axes>"
      ]
     },
     "metadata": {
      "needs_background": "light"
     },
     "output_type": "display_data"
    }
   ],
   "source": [
    "room_x2 = [i[0] for i in ys]\n",
    "room_y2 = [i[1] for i in ys]\n",
    "plt.scatter(room_x2, room_y2, s=2)"
   ]
  },
  {
   "cell_type": "code",
   "execution_count": 38,
   "id": "03bb6497",
   "metadata": {},
   "outputs": [
    {
     "data": {
      "text/plain": [
       "[array([130.  ,  52.75]),\n",
       " array([106.  ,  54.75]),\n",
       " array([78.5 , 54.25]),\n",
       " array([64.  , 51.25]),\n",
       " array([58.5, 63.5]),\n",
       " array([67.5, 74.5]),\n",
       " array([91.5, 76.5]),\n",
       " array([108.,  78.]),\n",
       " array([133.5,  75.5]),\n",
       " array([157.5,  73. ]),\n",
       " array([169.5,  63.5]),\n",
       " array([157.,  53.])]"
      ]
     },
     "execution_count": 38,
     "metadata": {},
     "output_type": "execute_result"
    }
   ],
   "source": [
    "ys"
   ]
  },
  {
   "cell_type": "code",
   "execution_count": 49,
   "id": "12514794",
   "metadata": {},
   "outputs": [],
   "source": [
    "for i in range(10000):\n",
    "    for x_i, y_i in zip(X_9, y_9):\n",
    "    \n",
    "        outputs = model_9(x_i.float())\n",
    "        loss = criterion_9(outputs, y_i.float())\n",
    "        optimizer_9.zero_grad()\n",
    "        loss.backward()\n",
    "        optimizer_9.step()"
   ]
  },
  {
   "cell_type": "code",
   "execution_count": 50,
   "id": "89179a8a",
   "metadata": {},
   "outputs": [],
   "source": [
    "maps9 = []\n",
    "for i in list(itertools.chain(cp1, cp2, cp3, cp4, cp5, cp6, cp7, cp8, cp9, cp10, cp11, cp12)):\n",
    "    testI = torch.from_numpy(i)\n",
    "    prediction = model_9(testI.float()).tolist()\n",
    "    maps9.append(prediction)"
   ]
  },
  {
   "cell_type": "code",
   "execution_count": 51,
   "id": "b3408792",
   "metadata": {},
   "outputs": [
    {
     "data": {
      "text/plain": [
       "<matplotlib.collections.PathCollection at 0x1702b00c788>"
      ]
     },
     "execution_count": 51,
     "metadata": {},
     "output_type": "execute_result"
    },
    {
     "data": {
      "image/png": "[encoded data removed]",
      "text/plain": [
       "<Figure size 432x288 with 1 Axes>"
      ]
     },
     "metadata": {
      "needs_background": "light"
     },
     "output_type": "display_data"
    }
   ],
   "source": [
    "mapX9 = [x[0] for x in maps9]\n",
    "mapy9 = [x[1] for x in maps9]\n",
    "plt.scatter(mapX9, mapy9, s=2)\n",
    "# plt.scatter(room_x9, room_y9, s=2)"
   ]
  },
  {
   "cell_type": "code",
   "execution_count": 45,
   "id": "3baaeea5",
   "metadata": {},
   "outputs": [
    {
     "data": {
      "text/plain": [
       "<itertools.chain at 0x17028320048>"
      ]
     },
     "execution_count": 45,
     "metadata": {},
     "output_type": "execute_result"
    }
   ],
   "source": [
    "\n",
    "list(itertools.chain(cp1, cp2, cp3, cp4, cp5, cp6, cp7, cp8, cp9, cp10, cp11, cp12))"
   ]
  },
  {
   "cell_type": "code",
   "execution_count": null,
   "id": "034f2327",
   "metadata": {},
   "outputs": [],
   "source": [
    "cp3"
   ]
  },
  {
   "cell_type": "code",
   "execution_count": null,
   "id": "746985cf",
   "metadata": {},
   "outputs": [],
   "source": []
  }
 ],
 "metadata": {
  "kernelspec": {
   "display_name": "Python 3",
   "language": "python",
   "name": "python3"
  },
  "language_info": {
   "codemirror_mode": {
    "name": "ipython",
    "version": 3
   },
   "file_extension": ".py",
   "mimetype": "text/x-python",
   "name": "python",
   "nbconvert_exporter": "python",
   "pygments_lexer": "ipython3",
   "version": "3.7.11"
  }
 },
 "nbformat": 4,
 "nbformat_minor": 5
}
